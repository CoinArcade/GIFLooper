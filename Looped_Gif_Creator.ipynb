{
  "nbformat": 4,
  "nbformat_minor": 0,
  "metadata": {
    "colab": {
      "name": "Looped Gif Creator",
      "private_outputs": true,
      "provenance": [],
      "collapsed_sections": [],
      "include_colab_link": true
    },
    "kernelspec": {
      "name": "python3",
      "display_name": "Python 3"
    },
    "accelerator": "GPU"
  },
  "cells": [
    {
      "cell_type": "markdown",
      "metadata": {
        "id": "view-in-github",
        "colab_type": "text"
      },
      "source": [
        "<a href=\"https://colab.research.google.com/github/CoinArcade/BUGOUT/blob/feat%2Fbrowser-undo00o/Looped_Gif_Creator.ipynb\" target=\"_parent\"><img src=\"https://colab.research.google.com/assets/colab-badge.svg\" alt=\"Open In Colab\"/></a>"
      ]
    },
    {
      "cell_type": "markdown",
      "metadata": {
        "id": "eZkBk7A4AYlE"
      },
      "source": [
        "\n",
        "Just enter your text in the form below and select Runtime-> Runall. \n",
        "\n",
        "It will play a pleasant beep and attempt to download the file.\n",
        "\n",
        "You should be able to just run this as-is. I can try to answer questions at https://www.reddit.com/user/exquisite_corpsed "
      ]
    },
    {
      "cell_type": "code",
      "metadata": {
        "id": "TxZFUZJB6Esl"
      },
      "source": [
        "#@title Text to dream from\n",
        "DreamText = \"moses\" #@param {type:\"string\"}\n",
        "DreamText2 = \"jesus\" #@param {type:\"string\"}\n",
        "DreamText3 = \"muhammmad\" #@param {type:\"string\"}\n"
      ],
      "execution_count": null,
      "outputs": []
    },
    {
      "cell_type": "code",
      "metadata": {
        "id": "xpy2SDYYyrVH"
      },
      "source": [
        "!git clone https://github.com/phoepner/big-sleep.git\n",
        "!pip install ftfy\n",
        "!pip install boto3\n",
        "!pip install einops\n",
        "!apt install gifsicle\n",
        "import subprocess\n",
        "for _ in range(2):\n",
        "    CUDA_version = [s for s in subprocess.check_output([\"nvcc\", \"--version\"]).decode(\"UTF-8\").split(\", \") if s.startswith(\"release\")][0].split(\" \")[-1]\n",
        "    print(\"CUDA version:\", CUDA_version)\n",
        "\n",
        "    if CUDA_version == \"10.0\":\n",
        "        torch_version_suffix = \"+cu100\"\n",
        "    elif CUDA_version == \"10.1\":\n",
        "        torch_version_suffix = \"+cu101\"\n",
        "    elif CUDA_version == \"10.2\":\n",
        "        torch_version_suffix = \"\"\n",
        "    else:\n",
        "        torch_version_suffix = \"+cu110\"\n",
        "\n",
        "    !pip install torch==1.7.1{torch_version_suffix} torchvision==0.8.2{torch_version_suffix} -f https://download.pytorch.org/whl/torch_stable.html ftfy regex\n",
        "\n"
      ],
      "execution_count": null,
      "outputs": []
    },
    {
      "cell_type": "code",
      "metadata": {
        "id": "VKe0OuzejyLg"
      },
      "source": [
        "%cd /content/big-sleep\n",
        "SearchText = \"\\\"\" + DreamText + \"\\\"\"\n",
        "!python gen_gif.py $SearchText\\\n",
        "\n",
        "SearchText2 = \"\\\"\" + DreamText2 + \"\\\"\"\n",
        "!python gen_gif.py $SearchText2\\\n",
        "\n",
        "SearchText3 = \"\\\"\" + DreamText3 + \"\\\"\"\n",
        "!python gen_gif.py $SearchText3\\"
      ],
      "execution_count": null,
      "outputs": []
    },
    {
      "cell_type": "code",
      "metadata": {
        "id": "eQPZ7WSA24SX"
      },
      "source": [
        "from google.colab import files\n",
        "from google.colab import output\n",
        "\n",
        "fileName = DreamText.replace(\" \", \"_\")\n",
        "fileName2 = DreamText2.replace(\" \", \"_\")\n",
        "fileName3 = DreamText3.replace(\" \", \"_\")\n",
        "\n",
        "FileStartIndex = 99\n",
        "NumberOfFrames = 30\n",
        "FirstPathIndex =  99\n",
        "SecondPathIndex =  0\n",
        "!python /content/big-sleep/interpolation.py --lat1 /content/big-sleep/$fileName\\.$FirstPathIndex\\.pth --lat2 /content/big-sleep/$fileName2\\.$SecondPathIndex\\.pth --steps $NumberOfFrames --startFileIndex $FileStartIndex --fileName $fileName\n",
        "!python /content/big-sleep/interpolation.py --lat1 /content/big-sleep/$fileName2\\.$FirstPathIndex\\.pth --lat2 /content/big-sleep/$fileName3\\.$SecondPathIndex\\.pth --steps $NumberOfFrames --startFileIndex $FileStartIndex --fileName $fileName2\n",
        "!python /content/big-sleep/interpolation.py --lat1 /content/big-sleep/$fileName3\\.$FirstPathIndex\\.pth --lat2 /content/big-sleep/$fileName\\.$SecondPathIndex\\.pth --steps $NumberOfFrames --startFileIndex $FileStartIndex --fileName $fileName3\n",
        "\n",
        "\n",
        "!ffmpeg -start_number 0 -i $fileName\\.%d.png $fileName\\.gif\n",
        "!ffmpeg -start_number 0 -i $fileName2\\.%d.png $fileName2\\.gif\n",
        "!ffmpeg -start_number 0 -i $fileName3\\.%d.png $fileName3\\.gif\n",
        "\n",
        "!gifsicle $fileName\\.gif $fileName2\\.gif $fileName3\\.gif > combo.gif\n",
        "files.download(\"combo.gif\")\n",
        "\n",
        "output.eval_js('new Audio(\"https://upload.wikimedia.org/wikipedia/commons/0/05/Beep-09.ogg\").play()')\n",
        "\n"
      ],
      "execution_count": null,
      "outputs": []
    },
    {
      "cell_type": "code",
      "metadata": {
        "id": "ywJoAopstk5I"
      },
      "source": [
        ""
      ],
      "execution_count": null,
      "outputs": []
    }
  ]
}